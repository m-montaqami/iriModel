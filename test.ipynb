{
 "cells": [
  {
   "cell_type": "code",
   "execution_count": 21,
   "metadata": {},
   "outputs": [
    {
     "name": "stdout",
     "output_type": "stream",
     "text": [
      "lat: 30 passed\n",
      "lat: 31 passed\n",
      "lat: 32 passed\n",
      "lat: 33 passed\n",
      "lat: 34 passed\n",
      "lat: 35 passed\n",
      "lat: 36 passed\n",
      "lat: 37 passed\n",
      "lat: 38 passed\n",
      "lat: 39 passed\n"
     ]
    }
   ],
   "source": [
    "run downloader.py"
   ]
  },
  {
   "cell_type": "code",
   "execution_count": 12,
   "metadata": {},
   "outputs": [
    {
     "name": "stdout",
     "output_type": "stream",
     "text": [
      "lat: 30 passed\n",
      "lat: 31 passed\n",
      "lat: 32 passed\n",
      "lat: 33 passed\n",
      "lat: 34 passed\n",
      "lat: 35 passed\n",
      "lat: 36 passed\n",
      "lat: 37 passed\n",
      "lat: 38 passed\n",
      "lat: 39 passed\n"
     ]
    }
   ],
   "source": [
    "exe(timeOut,Lat,TEC,DATA)"
   ]
  },
  {
   "cell_type": "code",
   "execution_count": 20,
   "metadata": {},
   "outputs": [
    {
     "ename": "IndexError",
     "evalue": "list index out of range",
     "output_type": "error",
     "traceback": [
      "\u001b[0;31m---------------------------------------------------------------------------\u001b[0m",
      "\u001b[0;31mIndexError\u001b[0m                                Traceback (most recent call last)",
      "\u001b[1;32m/home/root-pc/Desktop/iriModel/test.ipynb Cell 3\u001b[0m in \u001b[0;36m1\n\u001b[0;32m----> <a href='vscode-notebook-cell:/home/root-pc/Desktop/iriModel/test.ipynb#W2sZmlsZQ%3D%3D?line=0'>1</a>\u001b[0m TEC[\u001b[39m10\u001b[39;49m]\n",
      "\u001b[0;31mIndexError\u001b[0m: list index out of range"
     ]
    }
   ],
   "source": [
    "TEC[10]"
   ]
  },
  {
   "cell_type": "code",
   "execution_count": 17,
   "metadata": {},
   "outputs": [],
   "source": [
    "initIndex=[b.index(i) for i in b if 'GEOD' in i][0]+1\n",
    "if(initIndex!=1):\n",
    "    buffData=[[float(j) for j in i.split(' ') if j!=''] for i in b[initIndex:]]"
   ]
  },
  {
   "cell_type": "code",
   "execution_count": 18,
   "metadata": {},
   "outputs": [],
   "source": [
    "file=open('./testFile.txt','w')\n",
    "file.write(c)\n",
    "file.close()"
   ]
  },
  {
   "cell_type": "code",
   "execution_count": 19,
   "metadata": {},
   "outputs": [
    {
     "data": {
      "text/plain": [
       "[0.0,\n",
       " 1068852.0,\n",
       " 0.866,\n",
       " 901.0,\n",
       " 901.0,\n",
       " 1691.0,\n",
       " 986.0,\n",
       " 13.0,\n",
       " 0.0,\n",
       " 0.0,\n",
       " 0.0,\n",
       " 0.0,\n",
       " -1.0,\n",
       " 38.1,\n",
       " 60.0]"
      ]
     },
     "execution_count": 19,
     "metadata": {},
     "output_type": "execute_result"
    }
   ],
   "source": [
    "buffData[0]"
   ]
  },
  {
   "cell_type": "code",
   "execution_count": null,
   "metadata": {},
   "outputs": [],
   "source": []
  }
 ],
 "metadata": {
  "kernelspec": {
   "display_name": "Python 3 (ipykernel)",
   "language": "python",
   "name": "python3"
  },
  "language_info": {
   "codemirror_mode": {
    "name": "ipython",
    "version": 3
   },
   "file_extension": ".py",
   "mimetype": "text/x-python",
   "name": "python",
   "nbconvert_exporter": "python",
   "pygments_lexer": "ipython3",
   "version": "3.8.10"
  }
 },
 "nbformat": 4,
 "nbformat_minor": 2
}
